{
 "cells": [
  {
   "cell_type": "code",
   "execution_count": 17,
   "metadata": {},
   "outputs": [],
   "source": [
    "import os\n",
    "import time\n",
    "import datetime\n",
    "import numpy as np\n",
    "import pandas as pd\n",
    "from numpy.linalg import inv\n",
    "from scipy import optimize\n",
    "from scipy.optimize import minimize\n",
    "from scipy.signal import find_peaks\n",
    "from scipy.stats import rv_discrete\n",
    "from matplotlib import pyplot as plt\n",
    "from numpy.random import default_rng"
   ]
  },
  {
   "cell_type": "code",
   "execution_count": 18,
   "metadata": {},
   "outputs": [],
   "source": [
    "from qiskit import QuantumCircuit, pulse, circuit, transpile, assemble, schedule\n",
    "from qiskit.circuit import Gate\n",
    "from qiskit.tools.monitor import job_monitor\n",
    "from qiskit.pulse.library import GaussianSquare\n",
    "from qiskit.providers.fake_provider import FakeAthens, FakeBoeblingenV2, FakeOpenPulse2Q\n",
    "\n",
    "\n",
    "from qiskit import assemble\n",
    "from qiskit.providers.aer import PulseSimulator\n",
    "from qiskit.providers.aer.pulse import PulseSystemModel"
   ]
  },
  {
   "cell_type": "code",
   "execution_count": null,
   "metadata": {},
   "outputs": [],
   "source": [
    "def makepath(path):\n",
    "    now = datetime.datetime.now()\n",
    "    now = now.strftime('%Y_%m_%d__%H_%M_%S')\n",
    "    now = str(now)\n",
    "    path_now = os.path.join(path, now)\n",
    "    if not os.path.exists(path_now):\n",
    "        os.makedirs(path_now)\n",
    "    print(\"figs saved in: {}\".format(path_now))\n",
    "    return path_now\n",
    "\n",
    "\n",
    "def accept_rej(f, x, N):\n",
    "    idx = np.arange(len(x))\n",
    "    q_sample = rv_discrete(name='q_sample', values=(idx, f))\n",
    "    sample_idx = q_sample.rvs(size=N)\n",
    "    return x[sample_idx]\n",
    "\n",
    "\n",
    "def complex2idx(original, cplx):\n",
    "    return np.array([np.where(np.isin(original, cplx[i])) for i in range(len(cplx))]).reshape(len(cplx))\n",
    "\n",
    "\n",
    "def build_query_circuit(U, M, t, cr_sched, ctrl_bit, tar_bit):\n",
    "    cr_gate = circuit.Gate(\"cr\", num_qubits=1, params=[])\n",
    "    sim_circuit = QuantumCircuit(2,1)\n",
    "    if U == 1:\n",
    "        sim_circuit.x(ctrl_bit)\n",
    "    sim_circuit.append(cr_gate, [ctrl_bit])\n",
    "    sim_circuit.barrier()\n",
    "    if M == 0:\n",
    "        sim_circuit.sdg(tar_bit)\n",
    "        sim_circuit.h(tar_bit)\n",
    "    elif M == 1:\n",
    "        sim_circuit.h(tar_bit)\n",
    "    sim_circuit.barrier()\n",
    "    sim_circuit.add_calibration(cr_gate, [ctrl_bit], cr_sched)\n",
    "    sim_circuit.measure(tar_bit, 0)\n",
    "    return sim_circuit\n",
    "\n",
    "def build_cr_schedule(amp, query, backend, rise_ratio=0.1):\n",
    "    ct_bit = 0\n",
    "    tar_bit = 1\n",
    "    with pulse.build(backend=backend) as cr_sched:\n",
    "        ctrl_chan_01 = pulse.control_channels(ct_bit, tar_bit)[0]\n",
    "        # pulse.play(GaussianSquare(int(query[-1]), amp, int(query[-1]*rise_ratio), risefall_sigma_ratio=1), ctrl_chan_01)\n",
    "        pulse.play([amp]*int(query[-1]), ctrl_chan_01)\n",
    "    circuit = build_query_circuit(*query, cr_sched, ct_bit, tar_bit)\n",
    "    sim_transpiled = transpile(circuit, backend)\n",
    "    return schedule(sim_transpiled, backend)\n",
    "\n",
    "\n",
    "def mean_duplicate(data, cols=[\"t\", \"U\"], is_duplicated=True, is_second=False):\n",
    "    if is_duplicated:\n",
    "        data_unique = data[(data[cols].duplicated(keep=False)==False)].reset_index(drop=True)\n",
    "        data_dup = data[(data[cols].duplicated(keep=False)==True)].reset_index(drop=True)\n",
    "        data_mean = data_dup.groupby([\"t\",\"U\"]).mean().reset_index()\n",
    "        if is_second:\n",
    "            data_nan = data.loc[data[\"delta0\"].isna()==True]\n",
    "            return pd.concat([data_unique, data_mean, data_nan], join=\"inner\").reset_index(drop=True)\n",
    "        else:\n",
    "            return pd.concat([data_unique, data_mean], join=\"inner\").reset_index(drop=True)\n",
    "    else:\n",
    "        return data\n",
    "\n",
    "def discrete_cmap(N, base_cmap=None):\n",
    "    \"\"\"Create an N-bin discrete colormap from the specified input map\"\"\"\n",
    "    # Note that if base_cmap is a string or None, you can simply do\n",
    "    #    return plt.cm.get_cmap(base_cmap, N)\n",
    "    # The following works for string, None, or a colormap instance:\n",
    "\n",
    "    base = plt.cm.get_cmap(base_cmap)\n",
    "    color_list = base(np.linspace(0, 1, N))\n",
    "    cmap_name = base.name + str(N)\n",
    "    return base.from_list(cmap_name, color_list, N)\n",
    "\n",
    "def rabi_oszillation(t, omega, delta):\n",
    "    return 1-2*np.cos(delta)**2*np.sin(omega*t)**2\n",
    "\n",
    "\n",
    "def fisher_infromation_matrix(t, omega_0, delta_0, omega_1, delta_1):\n",
    "    A_0 = 4*t**2*np.cos(delta_0)**4*np.sin(2*omega_0*t)**2\n",
    "    B_0 = -16*t**2*np.cos(delta_0)**3*np.sin(delta_0)*np.sin(omega_0*t)*np.cos(omega_0*t)\n",
    "    C_0 = B_0\n",
    "    D_0 = 16*np.cos(delta_0)**2*np.sin(delta_0)**2\n",
    "    norm_0 = 1- (1-2*np.cos(delta_0)**2*np.sin(omega_0*t)**2)\n",
    "    I_0 = np.array([[A_0, B_0], [C_0, D_0]])\n",
    "    A_1 = 4*t**2*np.cos(delta_1)**4*np.sin(2*omega_1*t)**2\n",
    "    B_1 = -16*t**2*np.cos(delta_1)**3*np.sin(delta_1)*np.sin(omega_1*t)*np.cos(omega_1*t)\n",
    "    C_1 = B_1\n",
    "    D_1 = 16*np.cos(delta_1)**2*np.sin(delta_1)**2\n",
    "    norm_1 = 1- (1-2*np.cos(delta_1)**2*np.sin(omega_1*t)**2)\n",
    "    I_1 = np.array([[A_1, B_1], [C_1, D_1]])\n",
    "\n",
    "    if t != 0:\n",
    "        return (np.kron(np.array([[0,0],[0,1]]), I_1) + np.kron(np.array([[1,0],[0,0]]), I_1))/(norm_0+norm_1)\n",
    "    else:\n",
    "        return np.eye(4)\n",
    "\n",
    "def generate_fi_matrix(data, omega_0, delta_0, omega_1, delta_1):\n",
    "    N_batch = data.shape[0]\n",
    "    data.loc[data[\"U\"]==0, \"delta0\"] = delta_0\n",
    "    data.loc[data[\"U\"]==1, \"delta1\"] = delta_1\n",
    "    data.loc[data[\"U\"]==0, \"omega0\"] = omega_0\n",
    "    data.loc[data[\"U\"]==1, \"omega1\"] = omega_1\n",
    "    return np.array([fisher_infromation_matrix(data[\"t\"].iloc[N], data[\"omega0\"].iloc[N], data[\"delta0\"].iloc[N], data[\"omega1\"].iloc[N], data[\"delta1\"].iloc[N]) for N in range(N_batch)])\n",
    "    \n",
    "\n",
    "\n",
    "def inv_weight_mat(weight, mat):\n",
    "    weighted_mat = np.sum([abs(weight[i])*mat[i] for i in range(mat.shape[0])], axis=0)\n",
    "    return np.trace(inv(weighted_mat))\n",
    "\n",
    "\n",
    "\n",
    "\n",
    "def rabi_x(t, mu, eta, nu):\n",
    "    alpha = np.arctan(np.sin(nu)/(np.cos(nu)*np.sin(eta)))\n",
    "    return np.sin(2*eta)*np.cos(nu)/2+np.cos(eta)*np.sqrt(1-np.cos(eta)**2*np.cos(nu)**2)*np.cos(2*mu*t+alpha)\n",
    "    # return np.cos(eta)*np.sqrt(1-np.cos(eta)**2*np.cos(nu)**2)*np.cos(2*mu*t+alpha)\n",
    "\n",
    "def rabi_y(t, mu, eta, nu):\n",
    "    gamma = np.arctan(np.cos(nu)/(np.sin(nu)*np.sin(eta)))\n",
    "    return np.sin(2*eta)*np.sin(nu)/2-np.cos(eta)*np.sqrt(1-np.sin(eta)**2*np.cos(nu)**2)*np.cos(2*mu*t-gamma)\n",
    "    # return np.cos(eta)*np.sqrt(1-np.sin(eta)**2*np.cos(nu)**2)*np.cos(2*mu*t+gamma)\n",
    "\n",
    "def rabi_z(t, mu, eta, nu):\n",
    "    return 1-2*np.cos(eta)**2*np.sin(mu*t)**2"
   ]
  },
  {
   "cell_type": "code",
   "execution_count": 20,
   "metadata": {},
   "outputs": [
    {
     "name": "stdout",
     "output_type": "stream",
     "text": [
      "2.2222222222222221e-10\n"
     ]
    },
    {
     "data": {
      "image/png": "[encoded data removed]",
      "text/plain": [
       "<Figure size 432x288 with 2 Axes>"
      ]
     },
     "metadata": {
      "needs_background": "light"
     },
     "output_type": "display_data"
    }
   ],
   "source": [
    "\"\"\"\"\"\"\"\"\"\"\"\"\"\"\"\"\"\"\"\"\"\"\"\"\n",
    "\"\"\"  Programm Start  \"\"\"\n",
    "\"\"\"\"\"\"\"\"\"\"\"\"\"\"\"\"\"\"\"\"\"\"\"\"\n",
    "path = \"C:\\\\Physics_Master\\\\Master_Arbeit\\\\figs\"\n",
    "use_full = True\n",
    "# path = makepath(path)\n",
    "\n",
    "# use fake athens as the backend\n",
    "backend = FakeAthens()\n",
    "default = backend.defaults()\n",
    "\n",
    "# use pulse simulator to simulate the pulse\n",
    "backend_model= PulseSystemModel.from_backend(backend)\n",
    "backend_sim = PulseSimulator()\n",
    "qubit_lo_freq = backend_model.hamiltonian.get_qubit_lo_from_drift()\n",
    "\n",
    "dt = backend.configuration().dt\n",
    "print(dt)\n",
    "\n",
    "\"\"\"\n",
    "Init Query distribution\n",
    "\"\"\"\n",
    "\n",
    "t_max = 10*1e-7\n",
    "N_t = 100\n",
    "ts = (np.linspace(0, t_max, N_t)/dt).astype(int)\n",
    "Us = [0, 1]\n",
    "Ms = [0, 1, 2]\n",
    "N_UM = len(Us)*len(Ms)\n",
    "UMs = np.zeros((N_UM,), dtype=object)\n",
    "for i in range(len(Us)):\n",
    "    for j in range(len(Ms)):  \n",
    "        UMs[i*(len(Us)+1)+j]=np.array([Us[i], Ms[j]])   \n",
    "dist_tUM = np.ones((N_UM, N_t))\n",
    "dist_tUM = dist_tUM/dist_tUM.size\n",
    "\n",
    "\n",
    "x = np.zeros((N_UM, N_t, 3), dtype=object)\n",
    "q = np.zeros((N_UM, N_t), dtype=float)\n",
    "\n",
    "for i in range(N_UM):\n",
    "    for j in range(N_t):\n",
    "        x[i,j,0] = UMs[i][0]\n",
    "        x[i,j,1] = UMs[i][1]\n",
    "        x[i,j,2] = ts[j]\n",
    "        q[i,j] = dist_tUM[i,j]\n",
    "\n",
    "U_label= [r\"$(U_0, X)$\",r\"$(U_0, Y)$\",r\"$(U_0, Z)$\",r\"$(U_1, X)$\",r\"$(U_1, Y)$\",r\"$(U_1, Z)$\"]\n",
    "fake_UM = np.arange(N_UM)\n",
    "\n",
    "plt.figure()\n",
    "plt.pcolormesh(ts, fake_UM, q, cmap=\"Blues\")\n",
    "plt.colorbar()\n",
    "plt.yticks(fake_UM, labels=U_label)\n",
    "plt.ylabel('U')\n",
    "plt.xlabel('t(dt)')\n",
    "plt.title(r'Starting Distribution of the Query $N_b$')\n",
    "plt.show()"
   ]
  },
  {
   "cell_type": "code",
   "execution_count": 21,
   "metadata": {},
   "outputs": [
    {
     "data": {
      "image/png": "[encoded data removed]",
      "text/plain": [
       "<Figure size 432x288 with 2 Axes>"
      ]
     },
     "metadata": {
      "needs_background": "light"
     },
     "output_type": "display_data"
    }
   ],
   "source": [
    "# N_sample_query=30\n",
    "\n",
    "# querytest = accept_rej(q.reshape((q.size,)), x.reshape((q.size,3)), N_sample_query)\n",
    "N_sample_query = N_UM*N_t\n",
    "querytest = x.reshape((N_UM*N_t, 3))\n",
    "\n",
    "xq = np.array([querytest[:,0], querytest[:,1]]).T.reshape((N_sample_query,2))\n",
    "# yq = \n",
    "\n",
    "UM_complex = (np.meshgrid(Us,Ms)[0]+1j*np.meshgrid(Us,Ms)[1]).T.reshape(N_UM,)\n",
    "\n",
    "data = pd.DataFrame()\n",
    "data[\"U\"] = querytest[:,0].astype(int)\n",
    "data[\"M\"] = querytest[:,1].astype(int)\n",
    "data[\"t\"] = querytest[:,2].astype(int)\n",
    "data[\"UM\"] = data[\"U\"]+1j*data[\"M\"]\n",
    "UMidx = complex2idx(UM_complex, data[\"UM\"])\n",
    "\n",
    "\n",
    "H, xedges, yedges = np.histogram2d(data[\"t\"]*dt*1e9, UMidx, bins=[N_t, N_UM])\n",
    "H = H.T\n",
    "\n",
    "binwidth = (N_UM-1)/N_UM/2\n",
    "fake_UM = np.linspace(1, N_UM*2-1, N_UM)*binwidth\n",
    "\n",
    "plt.figure()\n",
    "colormesh = plt.pcolormesh(xedges, yedges, H, cmap=discrete_cmap(int(np.max(H)+1), \"Blues\"))\n",
    "plt.colorbar(colormesh, ticks=range(int(np.max(H)+1)))\n",
    "plt.clim(-0.5, int(np.max(H)+1) - 0.5)\n",
    "plt.yticks(fake_UM, labels=U_label)\n",
    "plt.ylabel('U')\n",
    "plt.xlabel('t (ns)')\n",
    "plt.title(r'2D Histogramm Sampling Query with $N_b$={}'.format(N_sample_query))\n",
    "plt.show()"
   ]
  },
  {
   "cell_type": "code",
   "execution_count": 22,
   "metadata": {},
   "outputs": [],
   "source": [
    "if use_full == True:\n",
    "    path = \"C:\\Physics_Master\\Master_Arbeit\\HAL_demo\\hal_simulation\\FakeAthenSimulation\\\\full_to\\\\\"\n",
    "    data = []\n",
    "    for i in range(len(UMs)):\n",
    "        dataname = \"full_U{}_M{}.csv\".format(UMs[i][0], UMs[i][1])\n",
    "        data.append(pd.read_csv(path+dataname, index_col=0))"
   ]
  },
  {
   "cell_type": "code",
   "execution_count": 23,
   "metadata": {},
   "outputs": [],
   "source": [
    "\"\"\"\n",
    "Start first Measurement\n",
    "\"\"\"\n",
    "num_shots = 1024\n",
    "\n",
    "counts = np.zeros(N_sample_query)\n",
    "\n",
    "if use_full != True:\n",
    "    for i in range(N_sample_query):\n",
    "        \"\"\"\n",
    "        query format (U, M, t)\n",
    "        \"\"\"\n",
    "        query = querytest[i]\n",
    "        if query[2] == 0:\n",
    "            counts[i] = 0\n",
    "        else:\n",
    "            pulse_schedule = build_cr_schedule(1.0+0j, query, backend=backend)\n",
    "\n",
    "            test_qobj = assemble(pulse_schedule,\n",
    "                                backend = backend_sim,\n",
    "                                qubit_lo_freq = qubit_lo_freq,\n",
    "                                meas_level = 1, \n",
    "                                meas_return = 'avg',\n",
    "                                shots = num_shots)\n",
    "\n",
    "            result = backend_sim.run(test_qobj, system_model=backend_model).result()\n",
    "            # counts of the 1 in the simulation\n",
    "            counts[i] = np.real(result.get_memory(0)[0])\n",
    "\n",
    "    data[\"count\"] = 1-2*counts\n",
    "\n",
    "    #postprocess\n",
    "    is_dup = np.sum(data[[\"t\",\"U\"]].duplicated())\n",
    "    data_filtered = mean_duplicate(data, [\"t\",\"U\"], is_dup)"
   ]
  },
  {
   "cell_type": "code",
   "execution_count": null,
   "metadata": {},
   "outputs": [],
   "source": [
    "if use_full==True:\n",
    "    sorted_data = data\n",
    "else:\n",
    "    sorted_data = [data.loc[data[\"UM\"]==UM_complex[i]].sort_values(by=\"t\") for i in range(N_UM)]"
   ]
  },
  {
   "cell_type": "code",
   "execution_count": null,
   "metadata": {},
   "outputs": [
    {
     "data": {
      "image/png": "[encoded data removed]",
      "text/plain": [
       "<Figure size 432x288 with 1 Axes>"
      ]
     },
     "metadata": {
      "needs_background": "light"
     },
     "output_type": "display_data"
    },
    {
     "data": {
      "image/png": "[encoded data removed]",
      "text/plain": [
       "<Figure size 432x288 with 1 Axes>"
      ]
     },
     "metadata": {
      "needs_background": "light"
     },
     "output_type": "display_data"
    }
   ],
   "source": [
    "for i in range(N_UM):\n",
    "    # print(UMs[i])\n",
    "    if i%3 == 0:\n",
    "        plt.figure()\n",
    "    plt.plot(sorted_data[i][\"t\"]*dt*1e9, sorted_data[i][\"count\"], \".\")\n",
    "    plt.xlabel(\"t(ns)\")\n",
    "    plt.ylabel(r\"$p_{rabi}$\")\n",
    "    plt.title(r'Raw Data x = (U_{0},t,M_{1})'.format(*UMs[i]))\n",
    "    plt.grid()\n",
    "    # plt.show()"
   ]
  },
  {
   "attachments": {},
   "cell_type": "markdown",
   "metadata": {},
   "source": [
    "Fitting Paper"
   ]
  },
  {
   "cell_type": "code",
   "execution_count": null,
   "metadata": {},
   "outputs": [
    {
     "name": "stdout",
     "output_type": "stream",
     "text": [
      "[ 4.08809392e+06 -2.48470587e-01 -9.71966380e-01 -2.48703799e-01]\n"
     ]
    },
    {
     "data": {
      "image/png": "[encoded data removed]",
      "text/plain": [
       "<Figure size 432x288 with 1 Axes>"
      ]
     },
     "metadata": {
      "needs_background": "light"
     },
     "output_type": "display_data"
    }
   ],
   "source": [
    "# For fft\n",
    "from scipy.fft import fft, fftfreq\n",
    "import numpy as np\n",
    "import matplotlib.pyplot as plt\n",
    "\n",
    "# def inital_guess_freq(t, p, N_interp):\n",
    "#     N = (len(t)-1)\n",
    "#     T = np.max(t)/N\n",
    "#     yf = fft(p.to_numpy())\n",
    "#     y_fft = 2.0/N * np.abs(yf[0:N//2])\n",
    "#     xf = fftfreq(N, T)[:N//2]*np.pi*2\n",
    "#     peaks, properties = find_peaks(y_fft)\n",
    "#     return xf[peaks][0], yf[peaks[0]]\n",
    "\n",
    "def inital_guess_freq(t, p, N_interp):\n",
    "    t_intp = np.linspace(0, t_max, N_interp, endpoint=False) #!Important, endpoint= False\n",
    "    p_intp = np.interp(t_intp, t, p)\n",
    "    T = t_max/N_interp\n",
    "    yf = fft(p_intp)\n",
    "    y_fft = 2.0/N_interp * np.abs(yf[0:N_interp//2])\n",
    "    xf = fftfreq(N_interp, T)[:N_interp//2]*np.pi*2\n",
    "    peaks = np.where(y_fft==np.max(y_fft))\n",
    "    # print(1/t_max)\n",
    "    # print(np.sum(p*np.exp(-1j*1e6*t)))\n",
    "    # plt.plot(xf, [np.sum(p*np.exp(-1j*xf[i]*t)).real for i in range(len(xf))], \".\")\n",
    "    # plt.grid()\n",
    "    # print(yf)\n",
    "    return xf[peaks][0], yf[peaks[0]]\n",
    "\n",
    "def find_coefficient(t, p, omg0, four_omg, n_data):\n",
    "    n_rabi = n_data%3\n",
    "    #fourier\n",
    "    # four_o0_re = np.real(np.sum(p*np.exp(-1j*omg0*t)))\n",
    "    # four_o0_im = -1*np.imag(np.sum(p*np.exp(-1j*omg0*t)))\n",
    "    four_o0_re = np.real(four_omg)\n",
    "    four_o0_im = -1*np.imag(four_omg)\n",
    "    four_0 = np.sum(p)\n",
    "    # print(four_0)\n",
    "    k = omg0*t\n",
    "    if n_rabi!=2:\n",
    "        four = np.array([four_o0_re, four_o0_im]).reshape((2,1))\n",
    "        M = np.array([[np.cos(k)*(np.cos(k)-1), np.cos(k)*np.sin(k)],\n",
    "                    [np.sin(k)*(np.cos(k)-1), np.sin(k)**2]])\n",
    "        M = np.sum(M, axis = 2)\n",
    "        inv_M = np.linalg.inv(M)\n",
    "        A = np.matmul(inv_M, four)[0][0]\n",
    "        B = np.matmul(inv_M, four)[1][0]\n",
    "        C = -A\n",
    "    else:\n",
    "        A = (np.sum(p)-len(t))/(np.sum(np.cos(k))-len(t))\n",
    "        B = 0\n",
    "        C = 1-A\n",
    "    return A, B, C\n",
    "# def find_coefficient(t, p, omg0, four_omg, n_data):\n",
    "#     #fourier\n",
    "#     # four_o0_re = np.real(np.sum(p*np.exp(-1j*omg0*t)))\n",
    "#     # four_o0_im = -1*np.imag(np.sum(p*np.exp(-1j*omg0*t)))\n",
    "#     four_o0_re = np.real(four_omg)\n",
    "#     four_o0_im = -1*np.imag(four_omg)\n",
    "#     four_0 = np.sum(p)\n",
    "#     four = np.array([four_o0_re, four_o0_im, four_0]).reshape((3,1))\n",
    "\n",
    "#     k = omg0*t\n",
    "#     M = np.array([[np.cos(k)**2, np.cos(k)*np.sin(k), np.cos(k)],\n",
    "#                   [np.cos(k)*np.sin(k), np.sin(k)**2, np.sin(k)],\n",
    "#                   [np.cos(k), np.sin(k), np.array([1]*len(t))]])\n",
    "#     M = np.sum(M, axis = 2)\n",
    "#     inv_M = np.linalg.inv(M)\n",
    "#     A = np.matmul(inv_M, four)[0][0]\n",
    "#     B = np.matmul(inv_M, four)[1][0]\n",
    "#     C = np.matmul(inv_M, four)[2][0]\n",
    "#     # print(np.matmul(inv_M, four))\n",
    "#     return A, B, C\n",
    "    \n",
    "def to_amp(A, B, C, n_data):\n",
    "    n_rabi = n_data%3\n",
    "    delta_C = (B**2-1)**2-4*C**2\n",
    "    delta_A = (B**2-1)**2-4*A**2\n",
    "    if n_rabi == 0:\n",
    "        eta_C = np.arccos((0.5*((B**2+1)+delta_C**0.5))**0.5)\n",
    "        eta_A = np.arccos((0.5*((B**2+1)+delta_A**0.5))**0.5)\n",
    "        nu = np.arcsin(B/np.cos(eta_C))\n",
    "    elif n_rabi == 1:\n",
    "        eta_C = np.arccos((0.5*((B**2+1)+delta_C**0.5))**0.5)\n",
    "        eta_A = np.arccos((0.5*((B**2+1)+delta_A**0.5))**0.5)\n",
    "        nu = np.arccos(-1*B/np.cos(eta_C))\n",
    "    elif n_rabi == 2:\n",
    "        # print(np.abs(A)+np.abs(C))\n",
    "        eta_A = np.arccos(np.sqrt(A))\n",
    "        eta_C = np.arcsin(np.sqrt(C))\n",
    "        nu = np.nan\n",
    "    # print(\"Eta A, Eta C\")\n",
    "    # print(eta_A, eta_C)\n",
    "    return eta_C, nu\n",
    "\n",
    "\n",
    "def rough_fit_sorted_data(sorted_data, n_data):\n",
    "    to_fit = sorted_data[n_data]\n",
    "    t = (to_fit[\"t\"].iloc[1:])*dt\n",
    "    p = to_fit[\"count\"].iloc[1:]\n",
    "    mu, four_omg = inital_guess_freq(t, p, len(t)*2)\n",
    "    A, B, C = find_coefficient(t, p, mu, four_omg, n_data*2)#\n",
    "    # nu, eta = to_amp(A, B, C, n_data)\n",
    "    # return mu, nu, eta\n",
    "    return mu/2, A, B, C\n",
    "\n",
    "\"\"\"\n",
    "Fine fit model\n",
    "\"\"\"\n",
    "\n",
    "\n",
    "def fit_function(t, omg, A, B, C):\n",
    "    return A*np.cos(2*omg*t)+B*np.sin(2*omg*t)-A+C\n",
    "\n",
    "def fit_function_z(t, omg, A, B, C):\n",
    "    return A*np.cos(2*omg*t)+(1-A)\n",
    "\n",
    "\n",
    "def fit_sorted_data(sorted_data, n_data, inital_parameters):\n",
    "    to_fit = sorted_data[n_data]\n",
    "    t = to_fit[\"t\"].iloc[1:]*dt\n",
    "    p = to_fit[\"count\"].iloc[1:]\n",
    "    y_label= (to_fit[\"U\"][0],to_fit[\"M\"][0])\n",
    "    # print(y_label.real, y_label.imag)\n",
    "    n_rabi = n_data%3\n",
    "    if n_rabi !=2:\n",
    "        result = optimize.curve_fit(fit_function, t, p, p0=inital_parameters)\n",
    "        p_fit1 = fit_function(t, *result[0])\n",
    "    else:\n",
    "        result = optimize.curve_fit(fit_function_z, t, p, p0=inital_parameters)\n",
    "        p_fit1 = fit_function_z(t, *result[0])\n",
    "    plt.figure()\n",
    "    plt.plot(t*1e6, p, \".\")\n",
    "    plt.plot(t*1e6, p_fit1, \".-\")\n",
    "    plt.grid()\n",
    "    plt.ylabel(r\"$p_{rabi}$\")\n",
    "    plt.title(r\"Experiment fit for $x = (U_{0}, t, M_{1})$\".format(y_label[0], y_label[1]))\n",
    "    plt.ylabel(\"p\")\n",
    "    plt.xlabel(\"t(us)\")\n",
    "    print(result[0])\n",
    "    return result[0]\n",
    "\n",
    "rough_parameters = np.zeros((6,4))\n",
    "fine_parameters = np.zeros((6,4))\n",
    "for i in range(6):\n",
    "    rough_parameters[i,:] = rough_fit_sorted_data(sorted_data, i)\n",
    "    fine_parameters[i,:] = fit_sorted_data(sorted_data, i, rough_parameters[i,:])\n",
    "    break"
   ]
  },
  {
   "cell_type": "code",
   "execution_count": null,
   "metadata": {},
   "outputs": [
    {
     "name": "stdout",
     "output_type": "stream",
     "text": [
      "[ 3.14159265e+06 -1.80187093e+00 -5.52254634e-01  1.80187093e+00]\n",
      "[0. 0. 0. 0.]\n",
      "[0. 0. 0. 0.]\n",
      "[0. 0. 0. 0.]\n",
      "[0. 0. 0. 0.]\n",
      "[0. 0. 0. 0.]\n"
     ]
    }
   ],
   "source": [
    "for i in range(6):\n",
    "    print(rough_parameters[i,:])\n",
    "    # print(fine_parameters[i,1:])"
   ]
  },
  {
   "cell_type": "code",
   "execution_count": null,
   "metadata": {},
   "outputs": [
    {
     "name": "stdout",
     "output_type": "stream",
     "text": [
      "delta A not defined for data 0\n",
      "z condition\n",
      "0.0\n",
      "z condition\n",
      "0.0\n"
     ]
    },
    {
     "name": "stderr",
     "output_type": "stream",
     "text": [
      "C:\\Users\\Lenovo\\AppData\\Local\\Temp\\ipykernel_7796\\787138174.py:11: RuntimeWarning: invalid value encountered in double_scalars\n",
      "  eta_C = np.arccos((0.5*((B**2+1)+delta_C**0.5))**0.5)\n",
      "C:\\Users\\Lenovo\\AppData\\Local\\Temp\\ipykernel_7796\\787138174.py:12: RuntimeWarning: invalid value encountered in double_scalars\n",
      "  eta_A = np.arccos((0.5*((B**2+1)+delta_A**0.5))**0.5)\n"
     ]
    },
    {
     "data": {
      "text/plain": [
       "array([[4.08809392e+06,            nan,            nan],\n",
       "       [0.00000000e+00, 0.00000000e+00, 1.57079633e+00],\n",
       "       [0.00000000e+00, 0.00000000e+00,            nan],\n",
       "       [0.00000000e+00, 0.00000000e+00, 0.00000000e+00],\n",
       "       [0.00000000e+00, 0.00000000e+00, 1.57079633e+00],\n",
       "       [0.00000000e+00, 0.00000000e+00,            nan]])"
      ]
     },
     "execution_count": 12,
     "metadata": {},
     "output_type": "execute_result"
    }
   ],
   "source": [
    "def to_amp(A, B, C, n_data):\n",
    "    n_rabi = n_data%3\n",
    "    delta_C = (B**2-1)**2-4*C**2\n",
    "    delta_A = (B**2-1)**2-4*A**2\n",
    "    if delta_A < 0:\n",
    "        print(\"delta A not defined for data \"+str(n_data))\n",
    "    elif delta_C < 0:\n",
    "        print(\"delta C not defined for data \"+str(n_data))\n",
    "\n",
    "    if n_rabi == 0:\n",
    "        eta_C = np.arccos((0.5*((B**2+1)+delta_C**0.5))**0.5)\n",
    "        eta_A = np.arccos((0.5*((B**2+1)+delta_A**0.5))**0.5)\n",
    "        nu = np.arcsin(B/np.cos(eta_C))\n",
    "    elif n_rabi == 1:\n",
    "        eta_C = np.arccos((0.5*((B**2+1)+delta_C**0.5))**0.5)\n",
    "        eta_A = np.arccos((0.5*((B**2+1)+delta_A**0.5))**0.5)\n",
    "        nu = np.arccos(-1*B/np.cos(eta_C))\n",
    "    elif n_rabi == 2:\n",
    "        print(\"z condition\")\n",
    "        print(np.abs(A)+np.abs(C))\n",
    "        eta_A = np.arccos(np.sqrt(A))\n",
    "        eta_C = np.arcsin(np.sqrt(C))\n",
    "        nu = np.nan\n",
    "    # print(\"Eta A, Eta C\")\n",
    "    # print(eta_A, eta_C)\n",
    "    return eta_C, nu\n",
    "\n",
    "amp = np.zeros((6,3))\n",
    "for i in range(6):\n",
    "    amp[i, 0] = fine_parameters[i,0]\n",
    "    amp[i, 1:] = to_amp(*fine_parameters[i,1:], i)\n",
    "amp"
   ]
  },
  {
   "cell_type": "code",
   "execution_count": null,
   "metadata": {},
   "outputs": [
    {
     "data": {
      "text/plain": [
       "array([     -0.        , -105400.09177873,       0.        ,\n",
       "            -0.        , -105400.09177873,       0.        ])"
      ]
     },
     "execution_count": 13,
     "metadata": {},
     "output_type": "execute_result"
    }
   ],
   "source": [
    "def to_J1(paras):\n",
    "    mus = paras[:,0]/(2*np.pi)\n",
    "    Bs = paras[:,2]\n",
    "    Cs = paras[:,3]\n",
    "    mu0 = np.mean(mus[:3])\n",
    "    mu1 = np.mean(mus[3:])\n",
    "    J_IX = -0.5*(mu0*Bs[1]+mu1*Bs[4])\n",
    "    J_IY = 0.5*(mu0*Bs[0]+mu1*Bs[3])\n",
    "    J_IZ = 0.5*(mu0*Cs[2]**0.5+mu1*Cs[5]**0.5)\n",
    "    J_ZX = -0.5*(mu0*Bs[1]-mu1*Bs[4])\n",
    "    J_ZY = 0.5*(mu0*Bs[0]-mu1*Bs[3])\n",
    "    J_ZZ = 0.5*(mu0*Cs[2]**0.5-mu1*Cs[5]**0.5)\n",
    "    return np.array([J_IX, J_IY, J_IZ, J_ZX, J_ZY, J_ZZ])\n",
    "\n",
    "to_J1(fine_parameters)"
   ]
  },
  {
   "cell_type": "code",
   "execution_count": null,
   "metadata": {},
   "outputs": [],
   "source": [
    "# def to_J2(paras):\n",
    "#     mu0 =# "
   ]
  },
  {
   "attachments": {},
   "cell_type": "markdown",
   "metadata": {},
   "source": [
    "Transform parameters"
   ]
  },
  {
   "cell_type": "code",
   "execution_count": null,
   "metadata": {},
   "outputs": [],
   "source": [
    "def FI_M(t, mu, eta, nu):\n",
    "    I_mu_mu = 4*t**2*np.cos(eta)**2*np.cos(mu*t)**2/(1-np.cos(eta)**2*np.sin(mu*t)**2)\n",
    "    I_mu_eta = -2*t**2*np.cos(2*eta)/( np.tan(mu*t)*(1-np.cos(eta)**2*np.sin(mu*t)**2))\n",
    "    I_eta_eta = 4*np.sin(eta)**2/(np.sin(mu*t)**2*(1-np.cos(eta)**2*np.sin(mu*t)**2))\n",
    "    "
   ]
  },
  {
   "attachments": {},
   "cell_type": "markdown",
   "metadata": {},
   "source": [
    "### Save data\n"
   ]
  },
  {
   "cell_type": "code",
   "execution_count": null,
   "metadata": {},
   "outputs": [],
   "source": [
    "# for i in range(len(sorted_data)):\n",
    "#     sel_data = sorted_data[i].reset_index()\n",
    "#     sel_data.to_csv(\"C:\\Physics_Master\\Master_Arbeit\\HAL_demo\\hal_simulation\\FakeAthenSimulation\\\\control_1amp_0_3_riserate\\\\full_U{}_M{}.csv\".format(sel_data[\"U\"][0], sel_data[\"M\"][0]))"
   ]
  }
 ],
 "metadata": {
  "kernelspec": {
   "display_name": "qiskit",
   "language": "python",
   "name": "python3"
  },
  "language_info": {
   "codemirror_mode": {
    "name": "ipython",
    "version": 3
   },
   "file_extension": ".py",
   "mimetype": "text/x-python",
   "name": "python",
   "nbconvert_exporter": "python",
   "pygments_lexer": "ipython3",
   "version": "3.10.4"
  },
  "orig_nbformat": 4,
  "vscode": {
   "interpreter": {
    "hash": "0a221d5a0ec1df0c530687d609d324750c933af6253526f46c82b3b47c7512bb"
   }
  }
 },
 "nbformat": 4,
 "nbformat_minor": 2
}
